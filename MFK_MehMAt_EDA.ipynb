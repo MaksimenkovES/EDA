{
 "cells": [
  {
   "cell_type": "code",
   "execution_count": 374,
   "id": "bab7dfb1-5394-4eba-bdef-3140a5308396",
   "metadata": {},
   "outputs": [],
   "source": [
    "import numpy as np\n",
    "import pandas as pd\n",
    "import matplotlib.pyplot as plt\n",
    "import seaborn as sns\n",
    "from scipy.stats import norm, ttest_ind, shapiro, mannwhitneyu\n",
    "from sklearn.linear_model import LinearRegression\n",
    "from sklearn.preprocessing import PolynomialFeatures\n",
    "from sklearn.metrics import r2_score\n",
    "from sklearn.cluster import KMeans"
   ]
  },
  {
   "cell_type": "markdown",
   "id": "e020768d-0613-412f-9c4c-0b4c35db9200",
   "metadata": {
    "jp-MarkdownHeadingCollapsed": true
   },
   "source": [
    "## Первичный анализ"
   ]
  },
  {
   "cell_type": "code",
   "execution_count": 175,
   "id": "7479f8b2-7307-49b3-a11e-07175c49b384",
   "metadata": {
    "scrolled": true
   },
   "outputs": [
    {
     "data": {
      "text/html": [
       "<div>\n",
       "<style scoped>\n",
       "    .dataframe tbody tr th:only-of-type {\n",
       "        vertical-align: middle;\n",
       "    }\n",
       "\n",
       "    .dataframe tbody tr th {\n",
       "        vertical-align: top;\n",
       "    }\n",
       "\n",
       "    .dataframe thead th {\n",
       "        text-align: right;\n",
       "    }\n",
       "</style>\n",
       "<table border=\"1\" class=\"dataframe\">\n",
       "  <thead>\n",
       "    <tr style=\"text-align: right;\">\n",
       "      <th></th>\n",
       "      <th>year</th>\n",
       "      <th>month</th>\n",
       "      <th>day</th>\n",
       "      <th>dep_time</th>\n",
       "      <th>dep_delay</th>\n",
       "      <th>arr_time</th>\n",
       "      <th>arr_delay</th>\n",
       "      <th>carrier</th>\n",
       "      <th>tailnum</th>\n",
       "      <th>flight</th>\n",
       "      <th>origin</th>\n",
       "      <th>dest</th>\n",
       "      <th>air_time</th>\n",
       "      <th>distance</th>\n",
       "    </tr>\n",
       "  </thead>\n",
       "  <tbody>\n",
       "    <tr>\n",
       "      <th>173243</th>\n",
       "      <td>2013</td>\n",
       "      <td>4</td>\n",
       "      <td>9</td>\n",
       "      <td>1602.0</td>\n",
       "      <td>9.0</td>\n",
       "      <td>1712.0</td>\n",
       "      <td>-12.0</td>\n",
       "      <td>B6</td>\n",
       "      <td>N265JB</td>\n",
       "      <td>12</td>\n",
       "      <td>JFK</td>\n",
       "      <td>SYR</td>\n",
       "      <td>45.0</td>\n",
       "      <td>209</td>\n",
       "    </tr>\n",
       "    <tr>\n",
       "      <th>136968</th>\n",
       "      <td>2013</td>\n",
       "      <td>3</td>\n",
       "      <td>1</td>\n",
       "      <td>1803.0</td>\n",
       "      <td>3.0</td>\n",
       "      <td>2119.0</td>\n",
       "      <td>10.0</td>\n",
       "      <td>B6</td>\n",
       "      <td>N590JB</td>\n",
       "      <td>989</td>\n",
       "      <td>JFK</td>\n",
       "      <td>FLL</td>\n",
       "      <td>172.0</td>\n",
       "      <td>1069</td>\n",
       "    </tr>\n",
       "    <tr>\n",
       "      <th>53174</th>\n",
       "      <td>2013</td>\n",
       "      <td>10</td>\n",
       "      <td>29</td>\n",
       "      <td>753.0</td>\n",
       "      <td>-7.0</td>\n",
       "      <td>843.0</td>\n",
       "      <td>-24.0</td>\n",
       "      <td>US</td>\n",
       "      <td>N952UW</td>\n",
       "      <td>2138</td>\n",
       "      <td>LGA</td>\n",
       "      <td>BOS</td>\n",
       "      <td>34.0</td>\n",
       "      <td>184</td>\n",
       "    </tr>\n",
       "    <tr>\n",
       "      <th>58029</th>\n",
       "      <td>2013</td>\n",
       "      <td>11</td>\n",
       "      <td>3</td>\n",
       "      <td>1447.0</td>\n",
       "      <td>0.0</td>\n",
       "      <td>1745.0</td>\n",
       "      <td>-9.0</td>\n",
       "      <td>UA</td>\n",
       "      <td>N24715</td>\n",
       "      <td>1744</td>\n",
       "      <td>LGA</td>\n",
       "      <td>IAH</td>\n",
       "      <td>206.0</td>\n",
       "      <td>1416</td>\n",
       "    </tr>\n",
       "    <tr>\n",
       "      <th>283583</th>\n",
       "      <td>2013</td>\n",
       "      <td>8</td>\n",
       "      <td>4</td>\n",
       "      <td>2201.0</td>\n",
       "      <td>21.0</td>\n",
       "      <td>2322.0</td>\n",
       "      <td>22.0</td>\n",
       "      <td>MQ</td>\n",
       "      <td>N800MQ</td>\n",
       "      <td>3621</td>\n",
       "      <td>JFK</td>\n",
       "      <td>DCA</td>\n",
       "      <td>44.0</td>\n",
       "      <td>213</td>\n",
       "    </tr>\n",
       "    <tr>\n",
       "      <th>114659</th>\n",
       "      <td>2013</td>\n",
       "      <td>2</td>\n",
       "      <td>5</td>\n",
       "      <td>554.0</td>\n",
       "      <td>-6.0</td>\n",
       "      <td>836.0</td>\n",
       "      <td>-1.0</td>\n",
       "      <td>DL</td>\n",
       "      <td>N3773D</td>\n",
       "      <td>461</td>\n",
       "      <td>LGA</td>\n",
       "      <td>ATL</td>\n",
       "      <td>120.0</td>\n",
       "      <td>762</td>\n",
       "    </tr>\n",
       "    <tr>\n",
       "      <th>159868</th>\n",
       "      <td>2013</td>\n",
       "      <td>3</td>\n",
       "      <td>26</td>\n",
       "      <td>1129.0</td>\n",
       "      <td>-11.0</td>\n",
       "      <td>1443.0</td>\n",
       "      <td>-2.0</td>\n",
       "      <td>AA</td>\n",
       "      <td>N3FFAA</td>\n",
       "      <td>1623</td>\n",
       "      <td>EWR</td>\n",
       "      <td>MIA</td>\n",
       "      <td>165.0</td>\n",
       "      <td>1085</td>\n",
       "    </tr>\n",
       "    <tr>\n",
       "      <th>101932</th>\n",
       "      <td>2013</td>\n",
       "      <td>12</td>\n",
       "      <td>21</td>\n",
       "      <td>819.0</td>\n",
       "      <td>4.0</td>\n",
       "      <td>1035.0</td>\n",
       "      <td>-1.0</td>\n",
       "      <td>9E</td>\n",
       "      <td>N902XJ</td>\n",
       "      <td>2921</td>\n",
       "      <td>JFK</td>\n",
       "      <td>MSP</td>\n",
       "      <td>174.0</td>\n",
       "      <td>1029</td>\n",
       "    </tr>\n",
       "    <tr>\n",
       "      <th>205857</th>\n",
       "      <td>2013</td>\n",
       "      <td>5</td>\n",
       "      <td>14</td>\n",
       "      <td>1208.0</td>\n",
       "      <td>-2.0</td>\n",
       "      <td>1503.0</td>\n",
       "      <td>-26.0</td>\n",
       "      <td>UA</td>\n",
       "      <td>N508UA</td>\n",
       "      <td>257</td>\n",
       "      <td>JFK</td>\n",
       "      <td>SFO</td>\n",
       "      <td>332.0</td>\n",
       "      <td>2586</td>\n",
       "    </tr>\n",
       "    <tr>\n",
       "      <th>26607</th>\n",
       "      <td>2013</td>\n",
       "      <td>1</td>\n",
       "      <td>31</td>\n",
       "      <td>1620.0</td>\n",
       "      <td>76.0</td>\n",
       "      <td>1808.0</td>\n",
       "      <td>88.0</td>\n",
       "      <td>EV</td>\n",
       "      <td>N11193</td>\n",
       "      <td>4125</td>\n",
       "      <td>EWR</td>\n",
       "      <td>RDU</td>\n",
       "      <td>72.0</td>\n",
       "      <td>416</td>\n",
       "    </tr>\n",
       "    <tr>\n",
       "      <th>110312</th>\n",
       "      <td>2013</td>\n",
       "      <td>12</td>\n",
       "      <td>30</td>\n",
       "      <td>1826.0</td>\n",
       "      <td>94.0</td>\n",
       "      <td>2009.0</td>\n",
       "      <td>107.0</td>\n",
       "      <td>EV</td>\n",
       "      <td>N12900</td>\n",
       "      <td>4422</td>\n",
       "      <td>EWR</td>\n",
       "      <td>PIT</td>\n",
       "      <td>58.0</td>\n",
       "      <td>319</td>\n",
       "    </tr>\n",
       "    <tr>\n",
       "      <th>292684</th>\n",
       "      <td>2013</td>\n",
       "      <td>8</td>\n",
       "      <td>14</td>\n",
       "      <td>1051.0</td>\n",
       "      <td>-9.0</td>\n",
       "      <td>1152.0</td>\n",
       "      <td>-24.0</td>\n",
       "      <td>EV</td>\n",
       "      <td>N12166</td>\n",
       "      <td>4510</td>\n",
       "      <td>EWR</td>\n",
       "      <td>MKE</td>\n",
       "      <td>106.0</td>\n",
       "      <td>725</td>\n",
       "    </tr>\n",
       "    <tr>\n",
       "      <th>202200</th>\n",
       "      <td>2013</td>\n",
       "      <td>5</td>\n",
       "      <td>10</td>\n",
       "      <td>1039.0</td>\n",
       "      <td>4.0</td>\n",
       "      <td>1322.0</td>\n",
       "      <td>-19.0</td>\n",
       "      <td>UA</td>\n",
       "      <td>N13718</td>\n",
       "      <td>1572</td>\n",
       "      <td>EWR</td>\n",
       "      <td>RSW</td>\n",
       "      <td>147.0</td>\n",
       "      <td>1068</td>\n",
       "    </tr>\n",
       "    <tr>\n",
       "      <th>214800</th>\n",
       "      <td>2013</td>\n",
       "      <td>5</td>\n",
       "      <td>23</td>\n",
       "      <td>NaN</td>\n",
       "      <td>NaN</td>\n",
       "      <td>NaN</td>\n",
       "      <td>NaN</td>\n",
       "      <td>9E</td>\n",
       "      <td>NaN</td>\n",
       "      <td>4120</td>\n",
       "      <td>JFK</td>\n",
       "      <td>CLE</td>\n",
       "      <td>NaN</td>\n",
       "      <td>425</td>\n",
       "    </tr>\n",
       "    <tr>\n",
       "      <th>220433</th>\n",
       "      <td>2013</td>\n",
       "      <td>5</td>\n",
       "      <td>30</td>\n",
       "      <td>829.0</td>\n",
       "      <td>-1.0</td>\n",
       "      <td>1046.0</td>\n",
       "      <td>-3.0</td>\n",
       "      <td>DL</td>\n",
       "      <td>N306DQ</td>\n",
       "      <td>27</td>\n",
       "      <td>JFK</td>\n",
       "      <td>ATL</td>\n",
       "      <td>102.0</td>\n",
       "      <td>760</td>\n",
       "    </tr>\n",
       "    <tr>\n",
       "      <th>319659</th>\n",
       "      <td>2013</td>\n",
       "      <td>9</td>\n",
       "      <td>12</td>\n",
       "      <td>1325.0</td>\n",
       "      <td>-5.0</td>\n",
       "      <td>1732.0</td>\n",
       "      <td>60.0</td>\n",
       "      <td>B6</td>\n",
       "      <td>N529JB</td>\n",
       "      <td>431</td>\n",
       "      <td>LGA</td>\n",
       "      <td>SRQ</td>\n",
       "      <td>143.0</td>\n",
       "      <td>1047</td>\n",
       "    </tr>\n",
       "    <tr>\n",
       "      <th>249588</th>\n",
       "      <td>2013</td>\n",
       "      <td>6</td>\n",
       "      <td>30</td>\n",
       "      <td>646.0</td>\n",
       "      <td>3.0</td>\n",
       "      <td>942.0</td>\n",
       "      <td>11.0</td>\n",
       "      <td>UA</td>\n",
       "      <td>N76519</td>\n",
       "      <td>1627</td>\n",
       "      <td>EWR</td>\n",
       "      <td>PBI</td>\n",
       "      <td>152.0</td>\n",
       "      <td>1023</td>\n",
       "    </tr>\n",
       "    <tr>\n",
       "      <th>67133</th>\n",
       "      <td>2013</td>\n",
       "      <td>11</td>\n",
       "      <td>13</td>\n",
       "      <td>838.0</td>\n",
       "      <td>-7.0</td>\n",
       "      <td>1130.0</td>\n",
       "      <td>-31.0</td>\n",
       "      <td>UA</td>\n",
       "      <td>N16217</td>\n",
       "      <td>1025</td>\n",
       "      <td>LGA</td>\n",
       "      <td>IAH</td>\n",
       "      <td>195.0</td>\n",
       "      <td>1416</td>\n",
       "    </tr>\n",
       "    <tr>\n",
       "      <th>222521</th>\n",
       "      <td>2013</td>\n",
       "      <td>6</td>\n",
       "      <td>1</td>\n",
       "      <td>1159.0</td>\n",
       "      <td>-1.0</td>\n",
       "      <td>1414.0</td>\n",
       "      <td>-14.0</td>\n",
       "      <td>EV</td>\n",
       "      <td>N12967</td>\n",
       "      <td>4679</td>\n",
       "      <td>EWR</td>\n",
       "      <td>JAX</td>\n",
       "      <td>110.0</td>\n",
       "      <td>820</td>\n",
       "    </tr>\n",
       "    <tr>\n",
       "      <th>31944</th>\n",
       "      <td>2013</td>\n",
       "      <td>10</td>\n",
       "      <td>6</td>\n",
       "      <td>1200.0</td>\n",
       "      <td>-10.0</td>\n",
       "      <td>1322.0</td>\n",
       "      <td>-8.0</td>\n",
       "      <td>MQ</td>\n",
       "      <td>N507MQ</td>\n",
       "      <td>3461</td>\n",
       "      <td>LGA</td>\n",
       "      <td>BNA</td>\n",
       "      <td>117.0</td>\n",
       "      <td>764</td>\n",
       "    </tr>\n",
       "  </tbody>\n",
       "</table>\n",
       "</div>"
      ],
      "text/plain": [
       "        year  month  day  dep_time  dep_delay  arr_time  arr_delay carrier  \\\n",
       "173243  2013      4    9    1602.0        9.0    1712.0      -12.0      B6   \n",
       "136968  2013      3    1    1803.0        3.0    2119.0       10.0      B6   \n",
       "53174   2013     10   29     753.0       -7.0     843.0      -24.0      US   \n",
       "58029   2013     11    3    1447.0        0.0    1745.0       -9.0      UA   \n",
       "283583  2013      8    4    2201.0       21.0    2322.0       22.0      MQ   \n",
       "114659  2013      2    5     554.0       -6.0     836.0       -1.0      DL   \n",
       "159868  2013      3   26    1129.0      -11.0    1443.0       -2.0      AA   \n",
       "101932  2013     12   21     819.0        4.0    1035.0       -1.0      9E   \n",
       "205857  2013      5   14    1208.0       -2.0    1503.0      -26.0      UA   \n",
       "26607   2013      1   31    1620.0       76.0    1808.0       88.0      EV   \n",
       "110312  2013     12   30    1826.0       94.0    2009.0      107.0      EV   \n",
       "292684  2013      8   14    1051.0       -9.0    1152.0      -24.0      EV   \n",
       "202200  2013      5   10    1039.0        4.0    1322.0      -19.0      UA   \n",
       "214800  2013      5   23       NaN        NaN       NaN        NaN      9E   \n",
       "220433  2013      5   30     829.0       -1.0    1046.0       -3.0      DL   \n",
       "319659  2013      9   12    1325.0       -5.0    1732.0       60.0      B6   \n",
       "249588  2013      6   30     646.0        3.0     942.0       11.0      UA   \n",
       "67133   2013     11   13     838.0       -7.0    1130.0      -31.0      UA   \n",
       "222521  2013      6    1    1159.0       -1.0    1414.0      -14.0      EV   \n",
       "31944   2013     10    6    1200.0      -10.0    1322.0       -8.0      MQ   \n",
       "\n",
       "       tailnum  flight origin dest  air_time  distance  \n",
       "173243  N265JB      12    JFK  SYR      45.0       209  \n",
       "136968  N590JB     989    JFK  FLL     172.0      1069  \n",
       "53174   N952UW    2138    LGA  BOS      34.0       184  \n",
       "58029   N24715    1744    LGA  IAH     206.0      1416  \n",
       "283583  N800MQ    3621    JFK  DCA      44.0       213  \n",
       "114659  N3773D     461    LGA  ATL     120.0       762  \n",
       "159868  N3FFAA    1623    EWR  MIA     165.0      1085  \n",
       "101932  N902XJ    2921    JFK  MSP     174.0      1029  \n",
       "205857  N508UA     257    JFK  SFO     332.0      2586  \n",
       "26607   N11193    4125    EWR  RDU      72.0       416  \n",
       "110312  N12900    4422    EWR  PIT      58.0       319  \n",
       "292684  N12166    4510    EWR  MKE     106.0       725  \n",
       "202200  N13718    1572    EWR  RSW     147.0      1068  \n",
       "214800     NaN    4120    JFK  CLE       NaN       425  \n",
       "220433  N306DQ      27    JFK  ATL     102.0       760  \n",
       "319659  N529JB     431    LGA  SRQ     143.0      1047  \n",
       "249588  N76519    1627    EWR  PBI     152.0      1023  \n",
       "67133   N16217    1025    LGA  IAH     195.0      1416  \n",
       "222521  N12967    4679    EWR  JAX     110.0       820  \n",
       "31944   N507MQ    3461    LGA  BNA     117.0       764  "
      ]
     },
     "execution_count": 175,
     "metadata": {},
     "output_type": "execute_result"
    }
   ],
   "source": [
    "df = pd.read_csv('flights_NY.csv')\n",
    "df.sample(20)"
   ]
  },
  {
   "cell_type": "code",
   "execution_count": 176,
   "id": "3e963421-2fce-43a9-aa0f-4fd62488f96a",
   "metadata": {
    "scrolled": true
   },
   "outputs": [
    {
     "name": "stdout",
     "output_type": "stream",
     "text": [
      "<class 'pandas.core.frame.DataFrame'>\n",
      "RangeIndex: 336776 entries, 0 to 336775\n",
      "Data columns (total 14 columns):\n",
      " #   Column     Non-Null Count   Dtype  \n",
      "---  ------     --------------   -----  \n",
      " 0   year       336776 non-null  int64  \n",
      " 1   month      336776 non-null  int64  \n",
      " 2   day        336776 non-null  int64  \n",
      " 3   dep_time   328521 non-null  float64\n",
      " 4   dep_delay  328521 non-null  float64\n",
      " 5   arr_time   328063 non-null  float64\n",
      " 6   arr_delay  327346 non-null  float64\n",
      " 7   carrier    336776 non-null  object \n",
      " 8   tailnum    334264 non-null  object \n",
      " 9   flight     336776 non-null  int64  \n",
      " 10  origin     336776 non-null  object \n",
      " 11  dest       336776 non-null  object \n",
      " 12  air_time   327346 non-null  float64\n",
      " 13  distance   336776 non-null  int64  \n",
      "dtypes: float64(5), int64(5), object(4)\n",
      "memory usage: 36.0+ MB\n"
     ]
    }
   ],
   "source": [
    "df.info()"
   ]
  },
  {
   "cell_type": "code",
   "execution_count": 179,
   "id": "0e32cdf3-1234-4237-bec2-1557d52c62dd",
   "metadata": {
    "scrolled": true
   },
   "outputs": [
    {
     "name": "stdout",
     "output_type": "stream",
     "text": [
      "<class 'pandas.core.frame.DataFrame'>\n",
      "Index: 327346 entries, 0 to 336769\n",
      "Data columns (total 14 columns):\n",
      " #   Column     Non-Null Count   Dtype  \n",
      "---  ------     --------------   -----  \n",
      " 0   year       327346 non-null  int64  \n",
      " 1   month      327346 non-null  int64  \n",
      " 2   day        327346 non-null  int64  \n",
      " 3   dep_time   327346 non-null  float64\n",
      " 4   dep_delay  327346 non-null  float64\n",
      " 5   arr_time   327346 non-null  float64\n",
      " 6   arr_delay  327346 non-null  float64\n",
      " 7   carrier    327346 non-null  object \n",
      " 8   tailnum    327346 non-null  object \n",
      " 9   flight     327346 non-null  int64  \n",
      " 10  origin     327346 non-null  object \n",
      " 11  dest       327346 non-null  object \n",
      " 12  air_time   327346 non-null  float64\n",
      " 13  distance   327346 non-null  int64  \n",
      "dtypes: float64(5), int64(5), object(4)\n",
      "memory usage: 37.5+ MB\n"
     ]
    }
   ],
   "source": [
    "df = df.dropna()\n",
    "df.info()"
   ]
  },
  {
   "cell_type": "code",
   "execution_count": 181,
   "id": "2ddf03c1-82d3-470c-a5c3-94b254c374ec",
   "metadata": {
    "scrolled": true
   },
   "outputs": [
    {
     "data": {
      "text/html": [
       "<div>\n",
       "<style scoped>\n",
       "    .dataframe tbody tr th:only-of-type {\n",
       "        vertical-align: middle;\n",
       "    }\n",
       "\n",
       "    .dataframe tbody tr th {\n",
       "        vertical-align: top;\n",
       "    }\n",
       "\n",
       "    .dataframe thead th {\n",
       "        text-align: right;\n",
       "    }\n",
       "</style>\n",
       "<table border=\"1\" class=\"dataframe\">\n",
       "  <thead>\n",
       "    <tr style=\"text-align: right;\">\n",
       "      <th></th>\n",
       "      <th>year</th>\n",
       "      <th>month</th>\n",
       "      <th>day</th>\n",
       "      <th>dep_time</th>\n",
       "      <th>dep_delay</th>\n",
       "      <th>arr_time</th>\n",
       "      <th>arr_delay</th>\n",
       "      <th>carrier</th>\n",
       "      <th>tailnum</th>\n",
       "      <th>flight</th>\n",
       "      <th>origin</th>\n",
       "      <th>dest</th>\n",
       "      <th>air_time</th>\n",
       "      <th>distance</th>\n",
       "    </tr>\n",
       "  </thead>\n",
       "  <tbody>\n",
       "    <tr>\n",
       "      <th>218176</th>\n",
       "      <td>2013</td>\n",
       "      <td>5</td>\n",
       "      <td>27</td>\n",
       "      <td>2003.0</td>\n",
       "      <td>-2.0</td>\n",
       "      <td>2141.0</td>\n",
       "      <td>-19.0</td>\n",
       "      <td>MQ</td>\n",
       "      <td>N713MQ</td>\n",
       "      <td>4555</td>\n",
       "      <td>LGA</td>\n",
       "      <td>CMH</td>\n",
       "      <td>77.0</td>\n",
       "      <td>479</td>\n",
       "    </tr>\n",
       "    <tr>\n",
       "      <th>168867</th>\n",
       "      <td>2013</td>\n",
       "      <td>4</td>\n",
       "      <td>4</td>\n",
       "      <td>1935.0</td>\n",
       "      <td>5.0</td>\n",
       "      <td>2059.0</td>\n",
       "      <td>11.0</td>\n",
       "      <td>EV</td>\n",
       "      <td>N826AS</td>\n",
       "      <td>5714</td>\n",
       "      <td>JFK</td>\n",
       "      <td>IAD</td>\n",
       "      <td>45.0</td>\n",
       "      <td>228</td>\n",
       "    </tr>\n",
       "    <tr>\n",
       "      <th>241798</th>\n",
       "      <td>2013</td>\n",
       "      <td>6</td>\n",
       "      <td>21</td>\n",
       "      <td>1825.0</td>\n",
       "      <td>130.0</td>\n",
       "      <td>1942.0</td>\n",
       "      <td>97.0</td>\n",
       "      <td>9E</td>\n",
       "      <td>N913XJ</td>\n",
       "      <td>3400</td>\n",
       "      <td>JFK</td>\n",
       "      <td>MKE</td>\n",
       "      <td>101.0</td>\n",
       "      <td>745</td>\n",
       "    </tr>\n",
       "    <tr>\n",
       "      <th>182037</th>\n",
       "      <td>2013</td>\n",
       "      <td>4</td>\n",
       "      <td>18</td>\n",
       "      <td>1935.0</td>\n",
       "      <td>63.0</td>\n",
       "      <td>2221.0</td>\n",
       "      <td>26.0</td>\n",
       "      <td>UA</td>\n",
       "      <td>N409UA</td>\n",
       "      <td>722</td>\n",
       "      <td>EWR</td>\n",
       "      <td>LAX</td>\n",
       "      <td>306.0</td>\n",
       "      <td>2454</td>\n",
       "    </tr>\n",
       "    <tr>\n",
       "      <th>113374</th>\n",
       "      <td>2013</td>\n",
       "      <td>2</td>\n",
       "      <td>3</td>\n",
       "      <td>1600.0</td>\n",
       "      <td>0.0</td>\n",
       "      <td>1827.0</td>\n",
       "      <td>-7.0</td>\n",
       "      <td>FL</td>\n",
       "      <td>N979AT</td>\n",
       "      <td>620</td>\n",
       "      <td>LGA</td>\n",
       "      <td>ATL</td>\n",
       "      <td>111.0</td>\n",
       "      <td>762</td>\n",
       "    </tr>\n",
       "    <tr>\n",
       "      <th>20231</th>\n",
       "      <td>2013</td>\n",
       "      <td>1</td>\n",
       "      <td>24</td>\n",
       "      <td>900.0</td>\n",
       "      <td>-4.0</td>\n",
       "      <td>1100.0</td>\n",
       "      <td>7.0</td>\n",
       "      <td>UA</td>\n",
       "      <td>N78285</td>\n",
       "      <td>1602</td>\n",
       "      <td>EWR</td>\n",
       "      <td>CLE</td>\n",
       "      <td>79.0</td>\n",
       "      <td>404</td>\n",
       "    </tr>\n",
       "    <tr>\n",
       "      <th>194843</th>\n",
       "      <td>2013</td>\n",
       "      <td>5</td>\n",
       "      <td>2</td>\n",
       "      <td>1344.0</td>\n",
       "      <td>34.0</td>\n",
       "      <td>1448.0</td>\n",
       "      <td>25.0</td>\n",
       "      <td>EV</td>\n",
       "      <td>N14125</td>\n",
       "      <td>4681</td>\n",
       "      <td>EWR</td>\n",
       "      <td>IAD</td>\n",
       "      <td>38.0</td>\n",
       "      <td>212</td>\n",
       "    </tr>\n",
       "    <tr>\n",
       "      <th>309613</th>\n",
       "      <td>2013</td>\n",
       "      <td>9</td>\n",
       "      <td>1</td>\n",
       "      <td>1520.0</td>\n",
       "      <td>-5.0</td>\n",
       "      <td>1808.0</td>\n",
       "      <td>-32.0</td>\n",
       "      <td>AA</td>\n",
       "      <td>N338AA</td>\n",
       "      <td>133</td>\n",
       "      <td>JFK</td>\n",
       "      <td>LAX</td>\n",
       "      <td>319.0</td>\n",
       "      <td>2475</td>\n",
       "    </tr>\n",
       "    <tr>\n",
       "      <th>268219</th>\n",
       "      <td>2013</td>\n",
       "      <td>7</td>\n",
       "      <td>19</td>\n",
       "      <td>1912.0</td>\n",
       "      <td>7.0</td>\n",
       "      <td>2111.0</td>\n",
       "      <td>3.0</td>\n",
       "      <td>9E</td>\n",
       "      <td>N906XJ</td>\n",
       "      <td>3525</td>\n",
       "      <td>JFK</td>\n",
       "      <td>ORD</td>\n",
       "      <td>111.0</td>\n",
       "      <td>740</td>\n",
       "    </tr>\n",
       "    <tr>\n",
       "      <th>205495</th>\n",
       "      <td>2013</td>\n",
       "      <td>5</td>\n",
       "      <td>14</td>\n",
       "      <td>602.0</td>\n",
       "      <td>-8.0</td>\n",
       "      <td>735.0</td>\n",
       "      <td>-10.0</td>\n",
       "      <td>AA</td>\n",
       "      <td>N479AA</td>\n",
       "      <td>301</td>\n",
       "      <td>LGA</td>\n",
       "      <td>ORD</td>\n",
       "      <td>120.0</td>\n",
       "      <td>733</td>\n",
       "    </tr>\n",
       "    <tr>\n",
       "      <th>310346</th>\n",
       "      <td>2013</td>\n",
       "      <td>9</td>\n",
       "      <td>2</td>\n",
       "      <td>1357.0</td>\n",
       "      <td>67.0</td>\n",
       "      <td>1606.0</td>\n",
       "      <td>76.0</td>\n",
       "      <td>DL</td>\n",
       "      <td>N321NB</td>\n",
       "      <td>1131</td>\n",
       "      <td>LGA</td>\n",
       "      <td>DTW</td>\n",
       "      <td>83.0</td>\n",
       "      <td>502</td>\n",
       "    </tr>\n",
       "    <tr>\n",
       "      <th>261238</th>\n",
       "      <td>2013</td>\n",
       "      <td>7</td>\n",
       "      <td>12</td>\n",
       "      <td>1534.0</td>\n",
       "      <td>-1.0</td>\n",
       "      <td>1912.0</td>\n",
       "      <td>11.0</td>\n",
       "      <td>DL</td>\n",
       "      <td>N373DA</td>\n",
       "      <td>2280</td>\n",
       "      <td>JFK</td>\n",
       "      <td>FLL</td>\n",
       "      <td>145.0</td>\n",
       "      <td>1069</td>\n",
       "    </tr>\n",
       "    <tr>\n",
       "      <th>336745</th>\n",
       "      <td>2013</td>\n",
       "      <td>9</td>\n",
       "      <td>30</td>\n",
       "      <td>2122.0</td>\n",
       "      <td>-5.0</td>\n",
       "      <td>2226.0</td>\n",
       "      <td>-11.0</td>\n",
       "      <td>EV</td>\n",
       "      <td>N14902</td>\n",
       "      <td>4372</td>\n",
       "      <td>EWR</td>\n",
       "      <td>DCA</td>\n",
       "      <td>35.0</td>\n",
       "      <td>199</td>\n",
       "    </tr>\n",
       "    <tr>\n",
       "      <th>3488</th>\n",
       "      <td>2013</td>\n",
       "      <td>1</td>\n",
       "      <td>4</td>\n",
       "      <td>1929.0</td>\n",
       "      <td>1.0</td>\n",
       "      <td>2135.0</td>\n",
       "      <td>6.0</td>\n",
       "      <td>EV</td>\n",
       "      <td>N13124</td>\n",
       "      <td>4532</td>\n",
       "      <td>EWR</td>\n",
       "      <td>CHS</td>\n",
       "      <td>95.0</td>\n",
       "      <td>628</td>\n",
       "    </tr>\n",
       "    <tr>\n",
       "      <th>155331</th>\n",
       "      <td>2013</td>\n",
       "      <td>3</td>\n",
       "      <td>21</td>\n",
       "      <td>1304.0</td>\n",
       "      <td>-1.0</td>\n",
       "      <td>1409.0</td>\n",
       "      <td>-15.0</td>\n",
       "      <td>B6</td>\n",
       "      <td>N265JB</td>\n",
       "      <td>32</td>\n",
       "      <td>JFK</td>\n",
       "      <td>ROC</td>\n",
       "      <td>50.0</td>\n",
       "      <td>264</td>\n",
       "    </tr>\n",
       "    <tr>\n",
       "      <th>51658</th>\n",
       "      <td>2013</td>\n",
       "      <td>10</td>\n",
       "      <td>27</td>\n",
       "      <td>1535.0</td>\n",
       "      <td>5.0</td>\n",
       "      <td>1846.0</td>\n",
       "      <td>1.0</td>\n",
       "      <td>AA</td>\n",
       "      <td>N327AA</td>\n",
       "      <td>133</td>\n",
       "      <td>JFK</td>\n",
       "      <td>LAX</td>\n",
       "      <td>332.0</td>\n",
       "      <td>2475</td>\n",
       "    </tr>\n",
       "    <tr>\n",
       "      <th>221534</th>\n",
       "      <td>2013</td>\n",
       "      <td>5</td>\n",
       "      <td>31</td>\n",
       "      <td>1026.0</td>\n",
       "      <td>16.0</td>\n",
       "      <td>1137.0</td>\n",
       "      <td>12.0</td>\n",
       "      <td>MQ</td>\n",
       "      <td>N507MQ</td>\n",
       "      <td>3795</td>\n",
       "      <td>EWR</td>\n",
       "      <td>ORD</td>\n",
       "      <td>104.0</td>\n",
       "      <td>719</td>\n",
       "    </tr>\n",
       "    <tr>\n",
       "      <th>3493</th>\n",
       "      <td>2013</td>\n",
       "      <td>1</td>\n",
       "      <td>4</td>\n",
       "      <td>1934.0</td>\n",
       "      <td>-1.0</td>\n",
       "      <td>2158.0</td>\n",
       "      <td>-9.0</td>\n",
       "      <td>EV</td>\n",
       "      <td>N18120</td>\n",
       "      <td>4333</td>\n",
       "      <td>EWR</td>\n",
       "      <td>TUL</td>\n",
       "      <td>181.0</td>\n",
       "      <td>1215</td>\n",
       "    </tr>\n",
       "    <tr>\n",
       "      <th>145497</th>\n",
       "      <td>2013</td>\n",
       "      <td>3</td>\n",
       "      <td>11</td>\n",
       "      <td>633.0</td>\n",
       "      <td>3.0</td>\n",
       "      <td>840.0</td>\n",
       "      <td>-7.0</td>\n",
       "      <td>EV</td>\n",
       "      <td>N14180</td>\n",
       "      <td>4250</td>\n",
       "      <td>EWR</td>\n",
       "      <td>IND</td>\n",
       "      <td>104.0</td>\n",
       "      <td>645</td>\n",
       "    </tr>\n",
       "    <tr>\n",
       "      <th>222609</th>\n",
       "      <td>2013</td>\n",
       "      <td>6</td>\n",
       "      <td>1</td>\n",
       "      <td>1406.0</td>\n",
       "      <td>-9.0</td>\n",
       "      <td>1514.0</td>\n",
       "      <td>-21.0</td>\n",
       "      <td>EV</td>\n",
       "      <td>N832AS</td>\n",
       "      <td>5712</td>\n",
       "      <td>JFK</td>\n",
       "      <td>IAD</td>\n",
       "      <td>42.0</td>\n",
       "      <td>228</td>\n",
       "    </tr>\n",
       "  </tbody>\n",
       "</table>\n",
       "</div>"
      ],
      "text/plain": [
       "        year  month  day  dep_time  dep_delay  arr_time  arr_delay carrier  \\\n",
       "218176  2013      5   27    2003.0       -2.0    2141.0      -19.0      MQ   \n",
       "168867  2013      4    4    1935.0        5.0    2059.0       11.0      EV   \n",
       "241798  2013      6   21    1825.0      130.0    1942.0       97.0      9E   \n",
       "182037  2013      4   18    1935.0       63.0    2221.0       26.0      UA   \n",
       "113374  2013      2    3    1600.0        0.0    1827.0       -7.0      FL   \n",
       "20231   2013      1   24     900.0       -4.0    1100.0        7.0      UA   \n",
       "194843  2013      5    2    1344.0       34.0    1448.0       25.0      EV   \n",
       "309613  2013      9    1    1520.0       -5.0    1808.0      -32.0      AA   \n",
       "268219  2013      7   19    1912.0        7.0    2111.0        3.0      9E   \n",
       "205495  2013      5   14     602.0       -8.0     735.0      -10.0      AA   \n",
       "310346  2013      9    2    1357.0       67.0    1606.0       76.0      DL   \n",
       "261238  2013      7   12    1534.0       -1.0    1912.0       11.0      DL   \n",
       "336745  2013      9   30    2122.0       -5.0    2226.0      -11.0      EV   \n",
       "3488    2013      1    4    1929.0        1.0    2135.0        6.0      EV   \n",
       "155331  2013      3   21    1304.0       -1.0    1409.0      -15.0      B6   \n",
       "51658   2013     10   27    1535.0        5.0    1846.0        1.0      AA   \n",
       "221534  2013      5   31    1026.0       16.0    1137.0       12.0      MQ   \n",
       "3493    2013      1    4    1934.0       -1.0    2158.0       -9.0      EV   \n",
       "145497  2013      3   11     633.0        3.0     840.0       -7.0      EV   \n",
       "222609  2013      6    1    1406.0       -9.0    1514.0      -21.0      EV   \n",
       "\n",
       "       tailnum  flight origin dest  air_time  distance  \n",
       "218176  N713MQ    4555    LGA  CMH      77.0       479  \n",
       "168867  N826AS    5714    JFK  IAD      45.0       228  \n",
       "241798  N913XJ    3400    JFK  MKE     101.0       745  \n",
       "182037  N409UA     722    EWR  LAX     306.0      2454  \n",
       "113374  N979AT     620    LGA  ATL     111.0       762  \n",
       "20231   N78285    1602    EWR  CLE      79.0       404  \n",
       "194843  N14125    4681    EWR  IAD      38.0       212  \n",
       "309613  N338AA     133    JFK  LAX     319.0      2475  \n",
       "268219  N906XJ    3525    JFK  ORD     111.0       740  \n",
       "205495  N479AA     301    LGA  ORD     120.0       733  \n",
       "310346  N321NB    1131    LGA  DTW      83.0       502  \n",
       "261238  N373DA    2280    JFK  FLL     145.0      1069  \n",
       "336745  N14902    4372    EWR  DCA      35.0       199  \n",
       "3488    N13124    4532    EWR  CHS      95.0       628  \n",
       "155331  N265JB      32    JFK  ROC      50.0       264  \n",
       "51658   N327AA     133    JFK  LAX     332.0      2475  \n",
       "221534  N507MQ    3795    EWR  ORD     104.0       719  \n",
       "3493    N18120    4333    EWR  TUL     181.0      1215  \n",
       "145497  N14180    4250    EWR  IND     104.0       645  \n",
       "222609  N832AS    5712    JFK  IAD      42.0       228  "
      ]
     },
     "execution_count": 181,
     "metadata": {},
     "output_type": "execute_result"
    }
   ],
   "source": [
    "df.sample(20)"
   ]
  },
  {
   "cell_type": "markdown",
   "id": "6b4884d7-38ad-4296-9226-8f7f8ae0fb09",
   "metadata": {
    "jp-MarkdownHeadingCollapsed": true
   },
   "source": [
    "## ЗАДАНИЕ 1"
   ]
  },
  {
   "cell_type": "markdown",
   "id": "fb94b277-60c3-4206-bcae-40bc7af91efe",
   "metadata": {},
   "source": [
    "\n",
    "Выберите 10 аэропортов, в которые чаще всего летают из Нью-Йорка. Для каждого  из них оцените вероятность, что рейс прилетит с положительной задержкой (arr_delay > 0) и постройте график (столбчатая диаграмма), на котором по оси х – название аэропорта, по оси y – вероятность задержки прилета. Названия аэропортов по оси х расположите слева направо по убыванию количества рейсов в этот аэропорт. Для какого аэропорта из этих 10 вероятность окажется наибольшей, и для какого – наименьшей? \n",
    "\n"
   ]
  },
  {
   "cell_type": "code",
   "execution_count": 185,
   "id": "b19779f1-a834-42c6-8c2a-df96a1eb06b3",
   "metadata": {},
   "outputs": [
    {
     "data": {
      "text/plain": [
       "dest\n",
       "ATL    16837\n",
       "ORD    16566\n",
       "LAX    16026\n",
       "BOS    15022\n",
       "MCO    13967\n",
       "CLT    13674\n",
       "SFO    13173\n",
       "FLL    11897\n",
       "MIA    11593\n",
       "DCA     9111\n",
       "Name: count, dtype: int64"
      ]
     },
     "execution_count": 185,
     "metadata": {},
     "output_type": "execute_result"
    }
   ],
   "source": [
    "t10_dests = df['dest'].value_counts().head(10)\n",
    "t10_dests"
   ]
  },
  {
   "cell_type": "code",
   "execution_count": 187,
   "id": "3f2a6767-1af7-4fdf-9a5d-2d5b9a09b19b",
   "metadata": {},
   "outputs": [
    {
     "data": {
      "text/plain": [
       "['ATL', 'ORD', 'LAX', 'BOS', 'MCO', 'CLT', 'SFO', 'FLL', 'MIA', 'DCA']"
      ]
     },
     "execution_count": 187,
     "metadata": {},
     "output_type": "execute_result"
    }
   ],
   "source": [
    "t10_list = t10_dests.index.tolist()\n",
    "t10_list"
   ]
  },
  {
   "cell_type": "code",
   "execution_count": 189,
   "id": "f0ef0a3e-7df4-4455-8304-d7d8147fc575",
   "metadata": {},
   "outputs": [
    {
     "data": {
      "text/plain": [
       "dest\n",
       "ATL    0.471937\n",
       "BOS    0.315737\n",
       "CLT    0.426942\n",
       "DCA    0.439359\n",
       "FLL    0.438094\n",
       "LAX    0.372332\n",
       "MCO    0.397007\n",
       "MIA    0.332528\n",
       "ORD    0.374140\n",
       "SFO    0.375085\n",
       "Name: arr_delay, dtype: float64"
      ]
     },
     "execution_count": 189,
     "metadata": {},
     "output_type": "execute_result"
    }
   ],
   "source": [
    "df_t10 = df[df['dest'].isin(t10_list)]\n",
    "delay_probs = df_t10.groupby('dest')['arr_delay'].apply(lambda x: (x>0).mean())\n",
    "delay_probs"
   ]
  },
  {
   "cell_type": "code",
   "execution_count": 191,
   "id": "7f7b9a7b-728c-4496-93c2-f358401cb802",
   "metadata": {},
   "outputs": [
    {
     "data": {
      "text/plain": [
       "Index(['ATL', 'ORD', 'LAX', 'BOS', 'MCO', 'CLT', 'SFO', 'FLL', 'MIA', 'DCA'], dtype='object', name='dest')"
      ]
     },
     "execution_count": 191,
     "metadata": {},
     "output_type": "execute_result"
    }
   ],
   "source": [
    "dest_order = t10_dests.loc[delay_probs.index].sort_values(ascending=False).index\n",
    "dest_order"
   ]
  },
  {
   "cell_type": "code",
   "execution_count": 193,
   "id": "8e4716ea-fd24-4465-941b-bf8ba3e964ad",
   "metadata": {},
   "outputs": [
    {
     "data": {
      "text/plain": [
       "Text(0.5, 1.0, 'Вероятность задержки рейса в топ-10 направлениях из NY аэропортов')"
      ]
     },
     "execution_count": 193,
     "metadata": {},
     "output_type": "execute_result"
    },
    {
     "data": {
      "image/png": "[encoded data removed]",
      "text/plain": [
       "<Figure size 640x480 with 1 Axes>"
      ]
     },
     "metadata": {},
     "output_type": "display_data"
    }
   ],
   "source": [
    "plt.bar(dest_order, delay_probs[dest_order])\n",
    "plt.xlabel('Аэропорт')\n",
    "plt.ylabel('Вероятность задержки рейса')\n",
    "plt.title('Вероятность задержки рейса в топ-10 направлениях из NY аэропортов')"
   ]
  },
  {
   "cell_type": "markdown",
   "id": "8023afef-a5c5-4e77-b94b-b16794c4cce8",
   "metadata": {},
   "source": [
    "Максимальная вероятность задержки - ATL, Минимальная - BOS"
   ]
  },
  {
   "cell_type": "markdown",
   "id": "28631f3f-ddf3-429c-93ac-22724a44e5cb",
   "metadata": {
    "jp-MarkdownHeadingCollapsed": true
   },
   "source": [
    "## ЗАДАНИЕ 2"
   ]
  },
  {
   "cell_type": "markdown",
   "id": "254099e0-775c-49a4-aaf2-bb8768e629c3",
   "metadata": {},
   "source": [
    "Постройте нормированную гистограмму распределения времени перелета из Нью-Йорка в Сан-Франциско (SFO). Предполагая, что это распределение описывается нормальным законом, оцените параметры нормального закона и наложите график плотности полученного нормального закона на график с гистограммой. В каких пределах с вероятностью не менее 95% лежит время полета?"
   ]
  },
  {
   "cell_type": "code",
   "execution_count": 198,
   "id": "d160756c-b307-4e1c-939d-248a7427ca9c",
   "metadata": {},
   "outputs": [],
   "source": [
    "df_sfo = df[df['dest']=='SFO']\n",
    "air_times = df_sfo['air_time']"
   ]
  },
  {
   "cell_type": "code",
   "execution_count": 200,
   "id": "a3712e32-a170-4cde-ab3a-1752973ce701",
   "metadata": {},
   "outputs": [],
   "source": [
    "my = air_times.mean()\n",
    "sig = air_times.std()"
   ]
  },
  {
   "cell_type": "code",
   "execution_count": 202,
   "id": "92109906-8e69-4c60-bd0b-93dc2c2ce75f",
   "metadata": {},
   "outputs": [
    {
     "data": {
      "text/plain": [
       "<matplotlib.legend.Legend at 0x14c3534a0>"
      ]
     },
     "execution_count": 202,
     "metadata": {},
     "output_type": "execute_result"
    },
    {
     "data": {
      "image/png": "[encoded data removed]",
      "text/plain": [
       "<Figure size 640x480 with 1 Axes>"
      ]
     },
     "metadata": {},
     "output_type": "display_data"
    }
   ],
   "source": [
    "plt.hist(air_times, bins=30, density=True, label='Норм Гистограмма')\n",
    "x = np.linspace(min(air_times), max(air_times), 100)\n",
    "plt.plot(x, norm.pdf(x,my,sig), label='Норм распределение')\n",
    "plt.xlabel('Время полета')\n",
    "plt.ylabel('Плотность вероятности')\n",
    "plt.title('Распределение времени полета в Сан-Франциско')\n",
    "plt.legend()"
   ]
  },
  {
   "cell_type": "code",
   "execution_count": 204,
   "id": "862902d7-934b-45dc-ac13-c77e74ab7e07",
   "metadata": {},
   "outputs": [
    {
     "name": "stdout",
     "output_type": "stream",
     "text": [
      "95% доверительный нтервал: 312 - 379 минут\n"
     ]
    }
   ],
   "source": [
    "ti_l = my - 1.96*sig\n",
    "ti_u = my + 1.96*sig\n",
    "print(f'95% доверительный нтервал: {ti_l:.0f} - {ti_u:.0f} минут')"
   ]
  },
  {
   "cell_type": "markdown",
   "id": "6302248a-896c-40f5-86f6-933df3ca6180",
   "metadata": {
    "jp-MarkdownHeadingCollapsed": true
   },
   "source": [
    "## ЗАДАНИЕ 3"
   ]
  },
  {
   "cell_type": "markdown",
   "id": "f9076a79-5ce2-4443-aecd-0f84e574ead5",
   "metadata": {},
   "source": [
    "Нарисуйте распределение по часам (0-23) количества вылетов из аэропорта JFK и найдите два пиковых часа (один до полудня, другой – после полудня) по количеству вылетов (время вылета переводите в час вылета округлением вниз, например 7:20 -> 7, 16:45 -> 16). Для каждого из двух найденных пиковых часов найдите среднее время задержки вылетов в этот час. Когда средняя задержка больше? Будет ли это различие в средних значениях статистически значимо?\n"
   ]
  },
  {
   "cell_type": "code",
   "execution_count": 218,
   "id": "b1b405ef-ac0d-40cb-b157-34eb29e1cf49",
   "metadata": {},
   "outputs": [],
   "source": [
    "df_jfk = df[df['origin']=='JFK'].copy()"
   ]
  },
  {
   "cell_type": "code",
   "execution_count": 224,
   "id": "d628fd4e-cf20-4c8e-a515-6e4a86379766",
   "metadata": {},
   "outputs": [],
   "source": [
    "df_jfk['dep_hour'] = (df['dep_time']//100).astype(int)"
   ]
  },
  {
   "cell_type": "code",
   "execution_count": 226,
   "id": "580b0a91-da14-4d03-9d92-19b35b933d78",
   "metadata": {},
   "outputs": [],
   "source": [
    "hour_counts = df_jfk['dep_hour'].value_counts().sort_index()"
   ]
  },
  {
   "cell_type": "code",
   "execution_count": 240,
   "id": "f458fb3f-8e6f-4d7f-969a-0f94822276b0",
   "metadata": {
    "scrolled": true
   },
   "outputs": [
    {
     "data": {
      "text/plain": [
       "([<matplotlib.axis.XTick at 0x14f52b5f0>,\n",
       "  <matplotlib.axis.XTick at 0x14f4e24e0>,\n",
       "  <matplotlib.axis.XTick at 0x14f554080>,\n",
       "  <matplotlib.axis.XTick at 0x14f504da0>,\n",
       "  <matplotlib.axis.XTick at 0x14f5079e0>,\n",
       "  <matplotlib.axis.XTick at 0x14f5064e0>,\n",
       "  <matplotlib.axis.XTick at 0x14f506210>,\n",
       "  <matplotlib.axis.XTick at 0x14f50f5c0>,\n",
       "  <matplotlib.axis.XTick at 0x14f50ecf0>,\n",
       "  <matplotlib.axis.XTick at 0x14f50dac0>,\n",
       "  <matplotlib.axis.XTick at 0x14b61b080>,\n",
       "  <matplotlib.axis.XTick at 0x14f50eab0>,\n",
       "  <matplotlib.axis.XTick at 0x14f50c9b0>,\n",
       "  <matplotlib.axis.XTick at 0x14f50deb0>,\n",
       "  <matplotlib.axis.XTick at 0x14f50de20>,\n",
       "  <matplotlib.axis.XTick at 0x14f50e7e0>,\n",
       "  <matplotlib.axis.XTick at 0x14f50f110>,\n",
       "  <matplotlib.axis.XTick at 0x14f51b140>,\n",
       "  <matplotlib.axis.XTick at 0x14f518200>,\n",
       "  <matplotlib.axis.XTick at 0x14f51a870>,\n",
       "  <matplotlib.axis.XTick at 0x14f518e30>,\n",
       "  <matplotlib.axis.XTick at 0x14f50dd30>,\n",
       "  <matplotlib.axis.XTick at 0x14f518620>,\n",
       "  <matplotlib.axis.XTick at 0x14f51bbc0>],\n",
       " [Text(0, 0, '0'),\n",
       "  Text(1, 0, '1'),\n",
       "  Text(2, 0, '2'),\n",
       "  Text(3, 0, '3'),\n",
       "  Text(4, 0, '4'),\n",
       "  Text(5, 0, '5'),\n",
       "  Text(6, 0, '6'),\n",
       "  Text(7, 0, '7'),\n",
       "  Text(8, 0, '8'),\n",
       "  Text(9, 0, '9'),\n",
       "  Text(10, 0, '10'),\n",
       "  Text(11, 0, '11'),\n",
       "  Text(12, 0, '12'),\n",
       "  Text(13, 0, '13'),\n",
       "  Text(14, 0, '14'),\n",
       "  Text(15, 0, '15'),\n",
       "  Text(16, 0, '16'),\n",
       "  Text(17, 0, '17'),\n",
       "  Text(18, 0, '18'),\n",
       "  Text(19, 0, '19'),\n",
       "  Text(20, 0, '20'),\n",
       "  Text(21, 0, '21'),\n",
       "  Text(22, 0, '22'),\n",
       "  Text(23, 0, '23')])"
      ]
     },
     "execution_count": 240,
     "metadata": {},
     "output_type": "execute_result"
    },
    {
     "data": {
      "image/png": "[encoded data removed]",
      "text/plain": [
       "<Figure size 640x480 with 1 Axes>"
      ]
     },
     "metadata": {},
     "output_type": "display_data"
    }
   ],
   "source": [
    "plt.bar(hour_counts.index, hour_counts.values)\n",
    "plt.xlabel('Часы вылета')\n",
    "plt.ylabel('Количество вылетов')\n",
    "plt.title('Распределение вылетов из Международного аэропорта имени Джона Кеннеди по часам')\n",
    "plt.xticks(range(0,24))"
   ]
  },
  {
   "cell_type": "code",
   "execution_count": 252,
   "id": "7ff8a18b-7c44-49cb-b38b-18853ba9977c",
   "metadata": {},
   "outputs": [
    {
     "name": "stdout",
     "output_type": "stream",
     "text": [
      "Пик до полудня: 8 часов утра\n",
      "Пик после полудня: 16 часов дня\n"
     ]
    }
   ],
   "source": [
    "am_extr = hour_counts[hour_counts.index <= 11].idxmax()\n",
    "print(f'Пик до полудня: {am_extr} часов утра')\n",
    "pm_extr = hour_counts[hour_counts.index >= 12].idxmax()\n",
    "print(f'Пик после полудня: {pm_extr} часов дня')"
   ]
  },
  {
   "cell_type": "code",
   "execution_count": 256,
   "id": "55309938-e7d0-470b-9711-a7de5b78a0a3",
   "metadata": {},
   "outputs": [],
   "source": [
    "delay_am = df_jfk[df_jfk['dep_hour'] == am_extr]['dep_delay']\n",
    "delay_pm = df_jfk[df_jfk['dep_hour'] == pm_extr]['dep_delay']"
   ]
  },
  {
   "cell_type": "code",
   "execution_count": 282,
   "id": "138535dc-aa4b-4edb-b805-335359fa44d6",
   "metadata": {},
   "outputs": [
    {
     "name": "stdout",
     "output_type": "stream",
     "text": [
      "средняя задержка am:1.0374019706414639\n",
      "средняя задержка pm:10.867650297291345\n"
     ]
    }
   ],
   "source": [
    "am_mean = delay_am.mean()\n",
    "pm_mean = delay_pm.mean()\n",
    "print(f'средняя задержка am:{am_mean}')\n",
    "print(f'средняя задержка pm:{pm_mean}')"
   ]
  },
  {
   "cell_type": "code",
   "execution_count": 284,
   "id": "b3c79f1d-cebe-4dcb-a31e-a471ea79c470",
   "metadata": {},
   "outputs": [
    {
     "name": "stdout",
     "output_type": "stream",
     "text": [
      "U-статистика: 32059833.5\n",
      "p-value: 1.0875595351923354e-263\n"
     ]
    }
   ],
   "source": [
    "stat, p_value = mannwhitneyu(delay_am, delay_pm, alternative='two-sided')\n",
    "print(\"U-статистика:\", stat)\n",
    "print(\"p-value:\", p_value)"
   ]
  },
  {
   "cell_type": "markdown",
   "id": "1a8274bb-87ad-49bc-af9a-b3b983de5c67",
   "metadata": {},
   "source": [
    "Различие статистически значимо"
   ]
  },
  {
   "cell_type": "markdown",
   "id": "26a35985-2495-44e0-9533-7f3129e429ea",
   "metadata": {
    "jp-MarkdownHeadingCollapsed": true
   },
   "source": [
    "## ЗАДАНИЕ 4"
   ]
  },
  {
   "cell_type": "markdown",
   "id": "5d66e893-cd38-49cf-b883-8211bd5b041c",
   "metadata": {},
   "source": [
    "Для каждого аэропорта прилета найдите величину стандартного отклонения времени перелета. Постройте график (точечная диаграмма) зависимости стандартного отклонения от расстояния до аэропорта. Аппроксимируйте полученную зависимость моделью линейной регрессии на основе расстояния до аэропорта  Добавьте к предыдущему графику график линейной регрессии. Уточните модель линейной регрессии, используя дополнительные входные признаки на основе расстояния до аэропорта. Добавьте график уточненной модели. Сравните точность моделей.\n"
   ]
  },
  {
   "cell_type": "code",
   "execution_count": 324,
   "id": "da0762c9-5e4b-4abc-94fc-7c9b5020f6b3",
   "metadata": {},
   "outputs": [],
   "source": [
    "dest_at_std_distance_mn = df.groupby('dest').agg({\n",
    "    'air_time': 'std',\n",
    "    'distance': 'mean'\n",
    "}).dropna().reset_index()\n",
    "\n",
    "dest_at_std_distance_mn.columns = ['dest', 'air_time_std', 'distance']"
   ]
  },
  {
   "cell_type": "code",
   "execution_count": 344,
   "id": "0b6120da-e3e5-4c3b-a25a-d7c1760ed128",
   "metadata": {},
   "outputs": [],
   "source": [
    "X = dest_at_std_distance_mn[['distance']]\n",
    "y = dest_at_std_distance_mn['air_time_std']\n",
    "\n",
    "model_lin = LinearRegression()\n",
    "model_lin.fit(X,y)\n",
    "y_pred_lin = model_lin.predict(X)\n",
    "\n",
    "r2_linear = r2_score(y, y_pred_lin)"
   ]
  },
  {
   "cell_type": "code",
   "execution_count": 346,
   "id": "66fdc6ea-656f-40b3-a53b-7aa4080dcea9",
   "metadata": {},
   "outputs": [],
   "source": [
    "poly = PolynomialFeatures(degree=2, include_bias=False)\n",
    "X_poly = poly.fit_transform(X)\n",
    "\n",
    "model_poly = LinearRegression()\n",
    "model_poly.fit(X_poly, y)\n",
    "y_pred_poly = model_poly.predict(X_poly)\n",
    "\n",
    "r2_poly = r2_score(y, y_pred_poly)\n"
   ]
  },
  {
   "cell_type": "code",
   "execution_count": 368,
   "id": "3645ca3c-8471-49c0-bb9b-db254c40dcc7",
   "metadata": {},
   "outputs": [
    {
     "data": {
      "text/plain": [
       "<matplotlib.legend.Legend at 0x14c7c9670>"
      ]
     },
     "execution_count": 368,
     "metadata": {},
     "output_type": "execute_result"
    },
    {
     "data": {
      "image/png": "[encoded data removed]",
      "text/plain": [
       "<Figure size 1000x600 with 1 Axes>"
      ]
     },
     "metadata": {},
     "output_type": "display_data"
    }
   ],
   "source": [
    "plt.figure(figsize=(10, 6))\n",
    "plt.scatter(X, y, label=\"Фактические данные\", alpha=0.6)\n",
    "\n",
    "X_sorted = X.sort_values(\"distance\")\n",
    "plt.plot(X_sorted, model_lin.predict(X_sorted), label=\"Лин модель\")\n",
    "plt.plot(X_sorted, model_poly.predict(poly.transform(X_sorted)), label=\"Полином модель\")\n",
    "\n",
    "plt.xlabel(\"Расстояние\")\n",
    "plt.ylabel(\"std\")\n",
    "plt.title(\"Модели аппроксимации\")\n",
    "plt.legend()\n"
   ]
  },
  {
   "cell_type": "code",
   "execution_count": 370,
   "id": "15cac1fe-8996-4b93-b23c-bb059440b23a",
   "metadata": {},
   "outputs": [
    {
     "name": "stdout",
     "output_type": "stream",
     "text": [
      "Линейная модель R²: 0.709\n",
      "Полиномиальная модель R²: 0.798\n"
     ]
    }
   ],
   "source": [
    "print(f\"Линейная модель R²: {r2_linear:.3f}\")\n",
    "print(f\"Полиномиальная модель R²: {r2_poly:.3f}\")"
   ]
  },
  {
   "cell_type": "markdown",
   "id": "761f7c3a-0cc0-4fec-bd9c-7951a63aca03",
   "metadata": {
    "jp-MarkdownHeadingCollapsed": true
   },
   "source": [
    "## ЗАДАНИЕ 5"
   ]
  },
  {
   "cell_type": "markdown",
   "id": "073a3066-7bad-4cd5-98a6-09924beb02a3",
   "metadata": {},
   "source": [
    "Методом кластерного анализа выделите три группы авиакомпаний на основе пары признаков: средняя задержка прилета и средняя задержка вылета. Постройте точечную диаграмму на этих признаках и раскрасьте точки в соответствии с номером кластера. Попробуйте дать интерпретацию кластерам (в этом может помочь название авиакомпании).\n"
   ]
  },
  {
   "cell_type": "code",
   "execution_count": 466,
   "id": "70f85d3b-a079-43f4-9e00-62899c09fcdc",
   "metadata": {},
   "outputs": [
    {
     "data": {
      "image/png": "[encoded data removed]",
      "text/plain": [
       "<Figure size 640x480 with 1 Axes>"
      ]
     },
     "metadata": {},
     "output_type": "display_data"
    }
   ],
   "source": [
    "carrier = sorted(df['carrier'].unique())\n",
    "names = [\n",
    "    \"Endeavor Air\",\n",
    "    \"American Airlines\",\n",
    "    \"Alaska Airlines\",\n",
    "    \"JetBlue Airways\",\n",
    "    \"Delta Air Lines\",\n",
    "    \"ExpressJet Airlines\",\n",
    "    \"Frontier Airlines\",\n",
    "    \"AirTran Airways\",\n",
    "    \"Hawaiian Airlines\",\n",
    "    \"Envoy Air (American Eagle)\",\n",
    "    \"SkyWest Airlines\",\n",
    "    \"United Airlines\",\n",
    "    \"US Airways\",\n",
    "    \"Virgin America\",\n",
    "    \"Southwest Airlines\",\n",
    "    \"Mesa Airlines\"\n",
    "]\n",
    "df_carriers = pd.DataFrame({\n",
    "    \"carrier\": carrier,\n",
    "    \"carrier_name\": names\n",
    "})\n",
    "\n",
    "carrier_delays = df.groupby(\"carrier\").agg({\n",
    "    \"dep_delay\": \"mean\",\n",
    "    \"arr_delay\": \"mean\"\n",
    "}).reset_index()\n",
    "\n",
    "carrier_delays.columns = [\"carrier\", \"mean_dep_delay\", \"mean_arr_delay\"]\n",
    "carrier_delays = carrier_delays.merge(df_carriers, on=\"carrier\", how=\"left\")\n",
    "\n",
    "X = carrier_delays[[\"mean_dep_delay\", \"mean_arr_delay\"]]\n",
    "kmeans = KMeans(n_clusters=3, random_state=42)\n",
    "carrier_delays[\"cluster\"] = kmeans.fit_predict(X)\n",
    "\n",
    "for cluster_id in range(3):\n",
    "    subset = carrier_delays[carrier_delays[\"cluster\"] == cluster_id]\n",
    "    plt.scatter(subset[\"mean_dep_delay\"], subset[\"mean_arr_delay\"], label=f\"Кластер {cluster_id+1}\")\n",
    "\n",
    "for _, row in carrier_delays.iterrows():\n",
    "    plt.text(row[\"mean_dep_delay\"], row[\"mean_arr_delay\"], row[\"carrier_name\"])\n",
    "\n",
    "plt.xlabel(\"Средняя задержка вылета\")\n",
    "plt.ylabel(\"Средняя задержка прилета\")\n",
    "plt.title(\"Кластеры авиакомпаний по задержкам\")\n",
    "plt.legend()\n",
    "plt.grid()\n"
   ]
  },
  {
   "cell_type": "markdown",
   "id": "78a4f30c-d479-4677-8c41-5823e4b8cc2a",
   "metadata": {},
   "source": [
    "Для поиска расшифровок использовал: https://www.iata.org/en/publications/directories/code-search/"
   ]
  },
  {
   "cell_type": "markdown",
   "id": "f6b0d5e0-0c80-44b5-b1ce-8d74fcd8c850",
   "metadata": {},
   "source": [
    "Кластеры:\n",
    "1: Пунктуальные, возможно с премиальным намеком компании\n",
    "2: Типичные компании. Массовые перевозчики с умеренными задержками\n",
    "3: Перегруженные перевозчики, вероятно лоукостеры"
   ]
  }
 ],
 "metadata": {
  "kernelspec": {
   "display_name": "Python [conda env:base] *",
   "language": "python",
   "name": "conda-base-py"
  },
  "language_info": {
   "codemirror_mode": {
    "name": "ipython",
    "version": 3
   },
   "file_extension": ".py",
   "mimetype": "text/x-python",
   "name": "python",
   "nbconvert_exporter": "python",
   "pygments_lexer": "ipython3",
   "version": "3.12.7"
  }
 },
 "nbformat": 4,
 "nbformat_minor": 5
}
